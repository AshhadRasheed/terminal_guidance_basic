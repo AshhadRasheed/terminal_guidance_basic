{
  "cells": [
    {
      "cell_type": "code",
      "execution_count": 1,
      "metadata": {
        "editable": true,
        "slideshow": {
          "slide_type": ""
        },
        "tags": [],
        "trusted": true
      },
      "outputs": [
        {
          "name": "stdout",
          "output_type": "stream",
          "text": [
            "1001\n",
            "[0. 0. 0. ... 0. 0. 0.]\n"
          ]
        }
      ],
      "source": [
        "#%matplotlib notebook\n",
        "import pylab\n",
        "import numpy as np\n",
        "import matplotlib.pyplot as plt\n",
        "from matplotlib.animation import FuncAnimation\n",
        "from itertools import count\n",
        "\n",
        "\n",
        "HE = -20/57.3 # heading error in radians\n",
        "N = 3 #proportional navigation gain \n",
        "samples = 1001\n",
        "t = np.linspace(0, 10, samples) \n",
        "v_p0 = 3000   #ft/s\n",
        "V_T= 1000    #ft/s\n",
        "R_0 = 30000   #ft\n",
        "dt = 0.01      #sec\n",
        "\n",
        "v_pz_intertial_0= v_p0*np.sin(HE)\n",
        "\n",
        "v_px_intertial_0= v_p0*np.cos(HE)\n",
        "\n",
        "print(t.size)\n",
        "\n",
        "R_px = np.zeros(t.size)\n",
        "R_pz = np.zeros(t.size)\n",
        "\n",
        "R_px_true = np.zeros(t.size)\n",
        "R_pz_true = np.zeros(t.size)\n",
        "\n",
        "R_tx = np.zeros(t.size)\n",
        "L = np.zeros(t.size)\n",
        "R_tz = np.zeros(t.size)\n",
        "\n",
        "R_tpx= np.zeros(t.size)\n",
        "R_tpz= np.zeros(t.size)\n",
        "\n",
        "R_tpx_true= np.zeros(t.size)\n",
        "R_tpz_true= np.zeros(t.size)\n",
        "\n",
        "lamda = np.zeros(t.size)\n",
        "\n",
        "a_p_pure = np.zeros(t.size)\n",
        "\n",
        "a_i_pure_x =np.zeros(t.size) \n",
        "a_i_pure_z = np.zeros(t.size)\n",
        "\n",
        "a_p_true = np.zeros(t.size)\n",
        "\n",
        "a_i_true_x =np.zeros(t.size) \n",
        "a_i_true_z = np.zeros(t.size)\n",
        "range_pt  = np.zeros(t.size)\n",
        "\n",
        "V_px = np.zeros(t.size)\n",
        "V_pz =np.zeros(t.size)\n",
        "\n",
        "V_px_true = np.zeros(t.size)\n",
        "V_pz_true =np.zeros(t.size)\n",
        "\n",
        "V_tx = -V_T*np.ones(t.size)\n",
        "\n",
        "V_tz = np.zeros(t.size)\n",
        "\n",
        "\n",
        "\n",
        "print(R_px)\n",
        "\n",
        "V_px[0]= v_px_intertial_0\n",
        "\n",
        "i=0\n",
        "\n",
        "R_tx[0] = 30000\n",
        "R_tpx[0] = 30000\n",
        "V_pz[0]= v_pz_intertial_0\n",
        "\n",
        "flag1= True\n",
        "flag2= True\n",
        "\n",
        "\n",
        "# Pure ProNav \n",
        "while (flag1 and flag2):\n",
        "    R_px[i+1]= V_px[i]*dt + R_px[i]\n",
        "    R_pz[i+1]= V_pz[i]*dt + R_pz[i]\n",
        "\n",
        "    R_px_true[i+1]= V_px[i]*dt + R_px_true[i]\n",
        "    R_pz_true[i+1]= V_pz[i]*dt + R_pz_true[i]\n",
        "    \n",
        "    R_tx[i+1]= V_tx[i]*dt + R_tx[i]\n",
        "    \n",
        "    R_tpx[i+1] = R_px[i+1] - R_tx[i+1]\n",
        "    R_tpz[i+1] = R_pz[i+1] - R_tz[i+1]\n",
        "\n",
        "    lamda[i+1] = np.arctan(R_tpz[i+1]/R_tpx[i+1])\n",
        "    L[i+1]  =  np.arcsin((V_T/v_p0*np.sin(lamda[i+1])))\n",
        "    lamda_dot = (lamda[i+1]-lamda[i])/dt \n",
        "    a_p_pure[i+1] = N*np.sqrt(np.power(V_px[i],2) + np.power(V_pz[i],2))*lamda_dot\n",
        "\n",
        "    a_i_pure_x[i+1]= a_p_pure[i+1]*np.sin(lamda[i+1])\n",
        "    a_i_pure_z[i+1]= a_p_pure[i+1]*np.cos(lamda[i+1])\n",
        "\n",
        "    # V_px[i+1] = v_p0*np.cos(L[i+1] + HE + lamda[i+1])\n",
        "    # V_pz[i+1] = v_p0*np.sin(L[i+1] + HE + lamda[i+1])\n",
        "    \n",
        "    V_px[i+1] = a_i_pure_x[i+1]*dt + V_px[i]\n",
        "    V_pz[i+1] = a_i_pure_z[i+1]*dt + V_pz[i]\n",
        "\n",
        "    range_pt[i] = np.sqrt(np.power(R_tpx[i],2) + np.power(R_tpz[i],2))\n",
        "    \n",
        "    if ((R_px[i] > 0.99*R_tx[i]) and (R_px[i] < 1.01*R_tx[i])): # crudely tracing the hit \n",
        "     flag1 = False\n",
        "    else:\n",
        "     flag1 = True\n",
        "\n",
        "    if ((R_pz[i] > 0.99*R_tz[i]) and (R_pz[i] < 1.01*R_tz[i])):\n",
        "     flag2 = False\n",
        "    else:\n",
        "     flag2 = True\n",
        "\n",
        "    i += 1\n",
        "    \n",
        "    "
      ]
    },
    {
      "cell_type": "code",
      "execution_count": 46,
      "metadata": {
        "editable": true,
        "slideshow": {
          "slide_type": ""
        },
        "tags": [],
        "trusted": true
      },
      "outputs": [
        {
          "data": {
            "image/png": "[encoded data removed]",
            "text/plain": [
              "<Figure size 640x480 with 1 Axes>"
            ]
          },
          "metadata": {},
          "output_type": "display_data"
        }
      ],
      "source": [
        "# unsuccessful attempt of making a live graph \n",
        "#x1_vals = []\n",
        "#y1_vals = []\n",
        "#x2_vals = []\n",
        "#y2_vals = []\n",
        "#i= count()\n",
        "#def animate(i):\n",
        "#    x1_vals.append(R_px[i])\n",
        "#    y1_vals.append(R_pz[i])\n",
        "#    x2_vals.append(R_tx[i])\n",
        "#    y2_vals.append(R_tz[i])\n",
        "    \n",
        "#    plt.plot(x1_vals,y1_vals,'*')\n",
        "#    plt.plot(x2_vals,y2_vals,'.')\n",
        "\n",
        "\n",
        "#ani = FuncAnimation(plt.gcf(), animate, interval=1000)\n",
        "#plt.tight_layout()\n",
        "plt.plot(R_px,R_pz,'+','LineWidth',0.01)\n",
        "plt.plot(R_tx,R_tz,'.')\n",
        "plt.show() \n"
      ]
    },
    {
      "cell_type": "code",
      "execution_count": null,
      "metadata": {
        "trusted": true
      },
      "outputs": [],
      "source": []
    },
    {
      "cell_type": "code",
      "execution_count": 41,
      "metadata": {
        "trusted": true
      },
      "outputs": [
        {
          "data": {
            "image/png": "[encoded data removed]",
            "text/plain": [
              "<Figure size 640x480 with 1 Axes>"
            ]
          },
          "metadata": {},
          "output_type": "display_data"
        }
      ],
      "source": [
        "#plt.plot(t,range_pt,'.')\n",
        "#plt.show()\n",
        "\n",
        "fig = plt.figure()\n",
        "ax = fig.add_subplot(2, 1, 1)\n",
        "\n",
        "line, = ax.plot(t,range_pt)\n",
        "ax.set_yscale('log')\n",
        "pylab.show()\n"
      ]
    },
    {
      "cell_type": "code",
      "execution_count": null,
      "metadata": {
        "trusted": true
      },
      "outputs": [],
      "source": []
    },
    {
      "cell_type": "code",
      "execution_count": null,
      "metadata": {
        "trusted": true
      },
      "outputs": [],
      "source": [
        "R_tpx"
      ]
    },
    {
      "cell_type": "code",
      "execution_count": null,
      "metadata": {
        "trusted": true
      },
      "outputs": [],
      "source": [
        "print(N)"
      ]
    },
    {
      "cell_type": "code",
      "execution_count": null,
      "metadata": {
        "trusted": true
      },
      "outputs": [],
      "source": [
        "print(R_pz)"
      ]
    },
    {
      "cell_type": "code",
      "execution_count": null,
      "metadata": {
        "trusted": true
      },
      "outputs": [],
      "source": [
        "print(v_pz_intertial_0)"
      ]
    },
    {
      "cell_type": "code",
      "execution_count": null,
      "metadata": {
        "trusted": true
      },
      "outputs": [],
      "source": [
        "print(V_px)"
      ]
    },
    {
      "cell_type": "code",
      "execution_count": null,
      "metadata": {
        "trusted": true
      },
      "outputs": [],
      "source": [
        "print(i)\n"
      ]
    },
    {
      "cell_type": "code",
      "execution_count": null,
      "metadata": {
        "trusted": true
      },
      "outputs": [],
      "source": []
    }
  ],
  "metadata": {
    "kernelspec": {
      "display_name": "Python 3",
      "language": "python",
      "name": "python3"
    },
    "language_info": {
      "codemirror_mode": {
        "name": "ipython",
        "version": 3
      },
      "file_extension": ".py",
      "mimetype": "text/x-python",
      "name": "python",
      "nbconvert_exporter": "python",
      "pygments_lexer": "ipython3",
      "version": "3.10.11"
    }
  },
  "nbformat": 4,
  "nbformat_minor": 4
}
